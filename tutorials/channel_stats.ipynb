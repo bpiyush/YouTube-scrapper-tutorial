{
 "cells": [
  {
   "cell_type": "code",
   "execution_count": 1,
   "id": "408d4eb6-1228-434f-b6fb-40db5f7c1d97",
   "metadata": {},
   "outputs": [],
   "source": [
    "%load_ext autoreload\n",
    "%autoreload 2"
   ]
  },
  {
   "cell_type": "code",
   "execution_count": 2,
   "id": "88e0270f-dbd7-4076-be52-798e53b0b2b5",
   "metadata": {},
   "outputs": [],
   "source": [
    "import os\n",
    "from os.path import join, basename\n",
    "from tqdm import tqdm\n",
    "\n",
    "from googleapiclient.discovery import build\n",
    "\n",
    "from utils.io import load_youtube_api"
   ]
  },
  {
   "cell_type": "code",
   "execution_count": 3,
   "id": "6a643b32-91ee-49f7-aabd-d0f3ae8d676e",
   "metadata": {},
   "outputs": [],
   "source": [
    "api = load_youtube_api()"
   ]
  },
  {
   "cell_type": "markdown",
   "id": "00ebcd65-9cb9-4c5a-a8cb-4d213c3a8091",
   "metadata": {},
   "source": [
    "### Access `Cricket Australia` channel"
   ]
  },
  {
   "cell_type": "code",
   "execution_count": 4,
   "id": "600d5a82-c34c-4e25-9259-939448833df8",
   "metadata": {},
   "outputs": [],
   "source": [
    "channel_url = \"https://www.youtube.com/channel/UCkBY0aHJP9BwjZLDYxAQrKg\""
   ]
  },
  {
   "cell_type": "code",
   "execution_count": 5,
   "id": "366571ec-2f78-4d4c-a7ea-4d8ea1968ad2",
   "metadata": {},
   "outputs": [],
   "source": [
    "channel_id = basename(channel_url)"
   ]
  },
  {
   "cell_type": "code",
   "execution_count": 6,
   "id": "6f986d4b-292e-49c5-b722-8ba5e18a3dfe",
   "metadata": {},
   "outputs": [
    {
     "data": {
      "text/plain": [
       "'UCkBY0aHJP9BwjZLDYxAQrKg'"
      ]
     },
     "execution_count": 6,
     "metadata": {},
     "output_type": "execute_result"
    }
   ],
   "source": [
    "channel_id"
   ]
  },
  {
   "cell_type": "code",
   "execution_count": 7,
   "id": "cfc45bd1-842e-4770-b13a-5b71cb59af2c",
   "metadata": {},
   "outputs": [],
   "source": [
    "api_service_name = \"youtube\"\n",
    "api_version = \"v3\""
   ]
  },
  {
   "cell_type": "code",
   "execution_count": 8,
   "id": "a1c35d7f-de78-42ca-b3f4-cc65c4619af2",
   "metadata": {},
   "outputs": [],
   "source": [
    "youtube = build(api_service_name, api_version, developerKey=api)"
   ]
  },
  {
   "cell_type": "markdown",
   "id": "650266ac-e94c-402f-9fe5-2c90b683a2f6",
   "metadata": {},
   "source": [
    "### Playground"
   ]
  },
  {
   "cell_type": "code",
   "execution_count": 9,
   "id": "77c91066-f8f3-4716-a015-40074e7ff751",
   "metadata": {},
   "outputs": [],
   "source": [
    "request = youtube.channels().list(part=\"contentDetails\",id=channel_id)\n",
    "# request = youtube.channels().list(part=\"contentDetails\", forUsername=\"Cricket Australia\")"
   ]
  },
  {
   "cell_type": "code",
   "execution_count": 10,
   "id": "4a1841a2-d62a-4b65-ac76-59ad73118876",
   "metadata": {},
   "outputs": [],
   "source": [
    "response = request.execute()"
   ]
  },
  {
   "cell_type": "code",
   "execution_count": 11,
   "id": "e63eb779-1105-4bdd-89e8-de66ae94e310",
   "metadata": {},
   "outputs": [
    {
     "data": {
      "text/plain": [
       "{'kind': 'youtube#channelListResponse',\n",
       " 'etag': 'TXUYsCt4yxEkjVYiQ-wpgHkvFWw',\n",
       " 'pageInfo': {'totalResults': 1, 'resultsPerPage': 5},\n",
       " 'items': [{'kind': 'youtube#channel',\n",
       "   'etag': 'PpKv4TgmAoNS77VTeBYYywSl-8I',\n",
       "   'id': 'UCkBY0aHJP9BwjZLDYxAQrKg',\n",
       "   'contentDetails': {'relatedPlaylists': {'likes': '',\n",
       "     'uploads': 'UUkBY0aHJP9BwjZLDYxAQrKg'}}}]}"
      ]
     },
     "execution_count": 11,
     "metadata": {},
     "output_type": "execute_result"
    }
   ],
   "source": [
    "response"
   ]
  },
  {
   "cell_type": "code",
   "execution_count": 12,
   "id": "fcedc034-75c5-4d2e-9d21-6a8908f92331",
   "metadata": {},
   "outputs": [],
   "source": [
    "uploads_id = response[\"items\"][0][\"contentDetails\"][\"relatedPlaylists\"][\"uploads\"]"
   ]
  },
  {
   "cell_type": "code",
   "execution_count": 13,
   "id": "a8cb73b7-c10d-4f62-884b-475eabe4f5d5",
   "metadata": {},
   "outputs": [
    {
     "data": {
      "text/plain": [
       "'UUkBY0aHJP9BwjZLDYxAQrKg'"
      ]
     },
     "execution_count": 13,
     "metadata": {},
     "output_type": "execute_result"
    }
   ],
   "source": [
    "uploads_id"
   ]
  },
  {
   "cell_type": "code",
   "execution_count": 14,
   "id": "0ca28e84-4110-4497-a748-be03844fce9c",
   "metadata": {},
   "outputs": [
    {
     "data": {
      "text/plain": [
       "'UUkBY0aHJP9BwjZLDYxAQrKg'"
      ]
     },
     "execution_count": 14,
     "metadata": {},
     "output_type": "execute_result"
    }
   ],
   "source": [
    "uploads_id"
   ]
  },
  {
   "cell_type": "code",
   "execution_count": 15,
   "id": "562bc850-f57b-4c9e-81df-4a4a3ef465ce",
   "metadata": {},
   "outputs": [],
   "source": [
    "request = youtube.playlistItems().list(part=\"snippet\", playlistId=uploads_id, maxResults=100)\n",
    "response = request.execute()"
   ]
  },
  {
   "cell_type": "markdown",
   "id": "97d4e2af-3905-4961-8101-35b302b2cbb0",
   "metadata": {},
   "source": [
    "### Extract all videos from a channel"
   ]
  },
  {
   "cell_type": "code",
   "execution_count": 16,
   "id": "c98b1bcb-ea43-43eb-8f24-d7e49c17989a",
   "metadata": {},
   "outputs": [
    {
     "name": "stderr",
     "output_type": "stream",
     "text": [
      "Extracting all videos of a channel: 100%|█████████▉| 225/226 [00:49<00:00,  4.54it/s]                                                          \n"
     ]
    }
   ],
   "source": [
    "scraped = []\n",
    "\n",
    "# scrape the first 50 videos\n",
    "request = youtube.playlistItems().list(\n",
    "    part=\"snippet\",\n",
    "    playlistId=uploads_id,\n",
    "    maxResults=50,\n",
    ")\n",
    "response = request.execute()\n",
    "scraped.extend(response[\"items\"])\n",
    "\n",
    "total_results = response[\"pageInfo\"][\"totalResults\"]\n",
    "\n",
    "# keep scraping till you cover all videos\n",
    "pbar = tqdm(\n",
    "    total=(total_results // 50) + 1,\n",
    "    desc=\"Extracting all videos of a channel\",\n",
    "    bar_format='{l_bar}{bar:10}{r_bar}{bar:-10b}',\n",
    ")\n",
    "while len(scraped) < total_results:\n",
    "    request = youtube.playlistItems().list(\n",
    "        part=\"snippet\",\n",
    "        playlistId=uploads_id,\n",
    "        maxResults=50,\n",
    "        pageToken=response[\"nextPageToken\"],\n",
    "    )\n",
    "    response = request.execute()\n",
    "    scraped.extend(response[\"items\"])\n",
    "    \n",
    "    pbar.update(1)\n",
    "\n",
    "pbar.close()"
   ]
  },
  {
   "cell_type": "markdown",
   "id": "e5e69b10-8358-46be-91dd-bd1ade413894",
   "metadata": {},
   "source": [
    "### Get video metadata for all scrapped items"
   ]
  },
  {
   "cell_type": "code",
   "execution_count": 17,
   "id": "42e4c9d2-3d53-43d0-a947-cd0fa302f8dc",
   "metadata": {},
   "outputs": [
    {
     "name": "stderr",
     "output_type": "stream",
     "text": [
      "100%|██████████| 11298/11298 [00:00<00:00, 1097130.18it/s]                                                                                     \n"
     ]
    }
   ],
   "source": [
    "video_ids = []\n",
    "for i in tqdm(range(len(scraped)), bar_format='{l_bar}{bar:10}{r_bar}{bar:-10b}',):\n",
    "    video_id = scraped[i][\"snippet\"][\"resourceId\"][\"videoId\"]\n",
    "    video_ids.append(video_id)"
   ]
  },
  {
   "cell_type": "code",
   "execution_count": 18,
   "id": "41de5d9b-823a-4cdc-b078-0d31daa6c01d",
   "metadata": {},
   "outputs": [
    {
     "name": "stderr",
     "output_type": "stream",
     "text": [
      "Extracting all videos: 100%|██████████| 226/226 [01:18<00:00,  2.87it/s]                                                                       \n"
     ]
    }
   ],
   "source": [
    "start = 0\n",
    "delta = 50\n",
    "videos = []\n",
    "\n",
    "pbar = tqdm(\n",
    "    total=(total_results // delta) + 1,\n",
    "    desc=\"Extracting all videos\",\n",
    "    bar_format='{l_bar}{bar:10}{r_bar}{bar:-10b}',\n",
    ")\n",
    "while len(videos) < len(video_ids):\n",
    "    request = youtube.videos().list(\n",
    "        part=\"snippet,statistics,contentDetails\",\n",
    "        id=video_ids[start: start + delta],\n",
    "    )\n",
    "    response = request.execute()\n",
    "    videos.extend(response[\"items\"])\n",
    "    \n",
    "    start += delta\n",
    "    pbar.update(1)\n",
    "\n",
    "pbar.close()"
   ]
  },
  {
   "cell_type": "code",
   "execution_count": 19,
   "id": "d72fd695-4247-4fcb-9068-f30bc3f95ef7",
   "metadata": {},
   "outputs": [
    {
     "data": {
      "text/plain": [
       "11298"
      ]
     },
     "execution_count": 19,
     "metadata": {},
     "output_type": "execute_result"
    }
   ],
   "source": [
    "len(videos)"
   ]
  },
  {
   "cell_type": "code",
   "execution_count": 21,
   "id": "392520c4-f0eb-4c2f-b8eb-802c34c43814",
   "metadata": {},
   "outputs": [
    {
     "data": {
      "text/plain": [
       "{'kind': 'youtube#video',\n",
       " 'etag': 'ZBR0fdk4zHeN8WUUQhIxrASQRYg',\n",
       " 'id': 'aNE0tQcfAGk',\n",
       " 'snippet': {'publishedAt': '2008-12-08T03:29:33Z',\n",
       "  'channelId': 'UCkBY0aHJP9BwjZLDYxAQrKg',\n",
       "  'title': \"Peter Siddle with Delhi's Cricket Impressionist\",\n",
       "  'description': 'Australian player Peter Siddle meets an Indian from Delhi impersonates Ricky Ponting, Brett Lee, Matthew Hayden and more.',\n",
       "  'thumbnails': {'default': {'url': 'https://i.ytimg.com/vi/aNE0tQcfAGk/default.jpg',\n",
       "    'width': 120,\n",
       "    'height': 90},\n",
       "   'medium': {'url': 'https://i.ytimg.com/vi/aNE0tQcfAGk/mqdefault.jpg',\n",
       "    'width': 320,\n",
       "    'height': 180},\n",
       "   'high': {'url': 'https://i.ytimg.com/vi/aNE0tQcfAGk/hqdefault.jpg',\n",
       "    'width': 480,\n",
       "    'height': 360}},\n",
       "  'channelTitle': 'cricket.com.au',\n",
       "  'tags': ['ricky',\n",
       "   'ponting',\n",
       "   'peter',\n",
       "   'siddle',\n",
       "   'brett',\n",
       "   'lee',\n",
       "   'matthew',\n",
       "   'hayden',\n",
       "   'mitchell',\n",
       "   'johnson',\n",
       "   'impressionist',\n",
       "   'delhi',\n",
       "   'cricket',\n",
       "   'cricket australia',\n",
       "   'ashes',\n",
       "   'australian team',\n",
       "   'clarke',\n",
       "   'warne',\n",
       "   'hussey',\n",
       "   'warner'],\n",
       "  'categoryId': '17',\n",
       "  'liveBroadcastContent': 'none',\n",
       "  'localized': {'title': \"Peter Siddle with Delhi's Cricket Impressionist\",\n",
       "   'description': 'Australian player Peter Siddle meets an Indian from Delhi impersonates Ricky Ponting, Brett Lee, Matthew Hayden and more.'}},\n",
       " 'contentDetails': {'duration': 'PT1M47S',\n",
       "  'dimension': '2d',\n",
       "  'definition': 'sd',\n",
       "  'caption': 'false',\n",
       "  'licensedContent': True,\n",
       "  'contentRating': {},\n",
       "  'projection': 'rectangular'},\n",
       " 'statistics': {'viewCount': '145660',\n",
       "  'likeCount': '1162',\n",
       "  'favoriteCount': '0',\n",
       "  'commentCount': '200'}}"
      ]
     },
     "execution_count": 21,
     "metadata": {},
     "output_type": "execute_result"
    }
   ],
   "source": [
    "videos[-1]"
   ]
  },
  {
   "cell_type": "code",
   "execution_count": 22,
   "id": "2a858909-daea-49f7-947e-cfd3c3be5674",
   "metadata": {},
   "outputs": [
    {
     "data": {
      "text/plain": [
       "{'kind': 'youtube#video',\n",
       " 'etag': 'avA_o2FGhQoqq61Ec8au53Z8MTw',\n",
       " 'id': 'j_CN4g-9RIQ',\n",
       " 'snippet': {'publishedAt': '2008-12-08T03:56:00Z',\n",
       "  'channelId': 'UCkBY0aHJP9BwjZLDYxAQrKg',\n",
       "  'title': 'Stuart Clark interviews personalities in Nagpur',\n",
       "  'description': \"Stuart Clark Interviews Allan Border, Brendan Julian and more during Australia's tour of India.\",\n",
       "  'thumbnails': {'default': {'url': 'https://i.ytimg.com/vi/j_CN4g-9RIQ/default.jpg',\n",
       "    'width': 120,\n",
       "    'height': 90},\n",
       "   'medium': {'url': 'https://i.ytimg.com/vi/j_CN4g-9RIQ/mqdefault.jpg',\n",
       "    'width': 320,\n",
       "    'height': 180},\n",
       "   'high': {'url': 'https://i.ytimg.com/vi/j_CN4g-9RIQ/hqdefault.jpg',\n",
       "    'width': 480,\n",
       "    'height': 360}},\n",
       "  'channelTitle': 'cricket.com.au',\n",
       "  'tags': ['Stuart',\n",
       "   'Clark',\n",
       "   'Allan',\n",
       "   'Border',\n",
       "   'Brendan',\n",
       "   'Julian',\n",
       "   'Mark',\n",
       "   'Nicholas',\n",
       "   'cricket',\n",
       "   'tour',\n",
       "   'of',\n",
       "   'India',\n",
       "   'cricket australia',\n",
       "   'ashes',\n",
       "   'australian team',\n",
       "   'clarke',\n",
       "   'warne',\n",
       "   'ponting',\n",
       "   'hussey',\n",
       "   'warner'],\n",
       "  'categoryId': '17',\n",
       "  'liveBroadcastContent': 'none',\n",
       "  'localized': {'title': 'Stuart Clark interviews personalities in Nagpur',\n",
       "   'description': \"Stuart Clark Interviews Allan Border, Brendan Julian and more during Australia's tour of India.\"}},\n",
       " 'contentDetails': {'duration': 'PT4M12S',\n",
       "  'dimension': '2d',\n",
       "  'definition': 'sd',\n",
       "  'caption': 'false',\n",
       "  'licensedContent': True,\n",
       "  'contentRating': {},\n",
       "  'projection': 'rectangular'},\n",
       " 'statistics': {'viewCount': '25963',\n",
       "  'likeCount': '166',\n",
       "  'favoriteCount': '0',\n",
       "  'commentCount': '27'}}"
      ]
     },
     "execution_count": 22,
     "metadata": {},
     "output_type": "execute_result"
    }
   ],
   "source": [
    "videos[-2]"
   ]
  },
  {
   "cell_type": "markdown",
   "id": "ad9c2a11-1bae-41c1-8808-1506719be5b0",
   "metadata": {},
   "source": [
    "### Extract video IDs for all videos uploaded in last 10 years"
   ]
  },
  {
   "cell_type": "code",
   "execution_count": 28,
   "id": "f15dde69-6539-48e4-903b-477e0dcf6eb3",
   "metadata": {},
   "outputs": [],
   "source": [
    "request = youtube.videos().list(part=\"snippet\", id=\"GWrOR1FxBhs\")\n",
    "response = request.execute()"
   ]
  },
  {
   "cell_type": "code",
   "execution_count": 29,
   "id": "270837ab-4c95-42be-be64-c55b5c325628",
   "metadata": {},
   "outputs": [
    {
     "data": {
      "text/plain": [
       "{'kind': 'youtube#videoListResponse',\n",
       " 'etag': 'USFEWr8PYjqFh3knEX5pt07SZM8',\n",
       " 'items': [{'kind': 'youtube#video',\n",
       "   'etag': 'vFXUpQmZlySrxAGBS4XUBmUg6p0',\n",
       "   'id': 'GWrOR1FxBhs',\n",
       "   'snippet': {'publishedAt': '2022-11-28T19:00:08Z',\n",
       "    'channelId': 'UCpcTrCXblq78GZrTUTLWeBw',\n",
       "    'title': 'Kramaric hits brace! | Croatia v Canada | FIFA World Cup Qatar 2022',\n",
       "    'description': \"Watch the Croatia v Canada Group F highlights from the FIFA World Cup Qatar 2022. \\n\\nGet all the highlights from Qatar 2022 on FIFA+ 👉 https://goto.fifa.com/nxRf/7750136f\\nFind out where to watch the games live here 👉 https://goto.fifa.com/nxRf/e4b3204e\\n\\nFollow FIFA World Cup & FIFA Women's World Cup: \\n👉 https://www.instagram.com/fifaworldcup \\n👉 https://www.instagram.com/fifaworldcup \\n👉 https://twitter.com/FIFAWorldCup \\n👉 https://twitter.com/FIFAWWC \\n👉 https://www.facebook.com/fifaworldcup \\n👉 https://www.facebook.com/fifawomensworldcup\",\n",
       "    'thumbnails': {'default': {'url': 'https://i.ytimg.com/vi/GWrOR1FxBhs/default.jpg',\n",
       "      'width': 120,\n",
       "      'height': 90},\n",
       "     'medium': {'url': 'https://i.ytimg.com/vi/GWrOR1FxBhs/mqdefault.jpg',\n",
       "      'width': 320,\n",
       "      'height': 180},\n",
       "     'high': {'url': 'https://i.ytimg.com/vi/GWrOR1FxBhs/hqdefault.jpg',\n",
       "      'width': 480,\n",
       "      'height': 360},\n",
       "     'standard': {'url': 'https://i.ytimg.com/vi/GWrOR1FxBhs/sddefault.jpg',\n",
       "      'width': 640,\n",
       "      'height': 480},\n",
       "     'maxres': {'url': 'https://i.ytimg.com/vi/GWrOR1FxBhs/maxresdefault.jpg',\n",
       "      'width': 1280,\n",
       "      'height': 720}},\n",
       "    'channelTitle': 'FIFA',\n",
       "    'tags': ['Highlights',\n",
       "     'Match Highlights',\n",
       "     '2022 FIFA World Cup Qatar',\n",
       "     'Qatar 2022',\n",
       "     'World Cup',\n",
       "     'World Cup Highlights',\n",
       "     'Match',\n",
       "     'Game',\n",
       "     'City',\n",
       "     'Football',\n",
       "     'FIFA',\n",
       "     'Goals',\n",
       "     'official',\n",
       "     'Soccer',\n",
       "     'Futbol',\n",
       "     'Futebol',\n",
       "     'Fußball',\n",
       "     'Fussball',\n",
       "     'Calcio',\n",
       "     'Voetbal',\n",
       "     'كرة فوتبول',\n",
       "     'croatia',\n",
       "     'canada'],\n",
       "    'categoryId': '17',\n",
       "    'liveBroadcastContent': 'none',\n",
       "    'defaultLanguage': 'en',\n",
       "    'localized': {'title': 'Kramaric hits brace! | Croatia v Canada | FIFA World Cup Qatar 2022',\n",
       "     'description': \"Watch the Croatia v Canada Group F highlights from the FIFA World Cup Qatar 2022. \\n\\nGet all the highlights from Qatar 2022 on FIFA+ 👉 https://goto.fifa.com/nxRf/7750136f\\nFind out where to watch the games live here 👉 https://goto.fifa.com/nxRf/e4b3204e\\n\\nFollow FIFA World Cup & FIFA Women's World Cup: \\n👉 https://www.instagram.com/fifaworldcup \\n👉 https://www.instagram.com/fifaworldcup \\n👉 https://twitter.com/FIFAWorldCup \\n👉 https://twitter.com/FIFAWWC \\n👉 https://www.facebook.com/fifaworldcup \\n👉 https://www.facebook.com/fifawomensworldcup\"},\n",
       "    'defaultAudioLanguage': 'en'}}],\n",
       " 'pageInfo': {'totalResults': 1, 'resultsPerPage': 1}}"
      ]
     },
     "execution_count": 29,
     "metadata": {},
     "output_type": "execute_result"
    }
   ],
   "source": [
    "response"
   ]
  },
  {
   "cell_type": "code",
   "execution_count": null,
   "id": "60ae80d3-8e70-4777-b4d9-e30b2adbade1",
   "metadata": {},
   "outputs": [],
   "source": []
  }
 ],
 "metadata": {
  "kernelspec": {
   "display_name": "Python 3 (ipykernel)",
   "language": "python",
   "name": "python3"
  },
  "language_info": {
   "codemirror_mode": {
    "name": "ipython",
    "version": 3
   },
   "file_extension": ".py",
   "mimetype": "text/x-python",
   "name": "python",
   "nbconvert_exporter": "python",
   "pygments_lexer": "ipython3",
   "version": "3.9.9"
  },
  "vscode": {
   "interpreter": {
    "hash": "3d824bf8362a0f6abaddf5155374fac293ebec8ae60de1972d9649eff46089ef"
   }
  }
 },
 "nbformat": 4,
 "nbformat_minor": 5
}
